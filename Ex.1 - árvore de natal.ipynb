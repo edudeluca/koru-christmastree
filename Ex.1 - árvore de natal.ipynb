{
 "cells": [
  {
   "cell_type": "code",
   "execution_count": 75,
   "id": "fe14195f",
   "metadata": {},
   "outputs": [],
   "source": [
    "tree_size = 10\n",
    "copa_size = 3"
   ]
  },
  {
   "cell_type": "code",
   "execution_count": 86,
   "id": "30ddf635",
   "metadata": {
    "scrolled": true
   },
   "outputs": [],
   "source": [
    "# para cada valor no intervalo de copa_size, imprimir uma linha, onde\n",
    "# haja apenas números ímpares e\n",
    "# a qtde de espaços deve ser um número igual ao copa_size,\n",
    "# isto porque esse valor é quem define o tamanho da base da copa\n",
    "#sendo este valor incluído na fórmula para gerar números ímpares ele representa sempre a metade da inferior da base da copa\n",
    "# 10 > 19 > 19/2 = 9.5 , onde o .5 representa o caracter divisor central.\n",
    "# após multiplicar por 2, subtrair um e divir por dois o resultado sempre irá terminar em .5\n",
    "def copa(tree_size):\n",
    "    copa_size = int(tree_size*0.8)\n",
    "    espacos = copa_size\n",
    "    \n",
    "    for i in range(1, copa_size+1):\n",
    "        print(\n",
    "            (' '*espacos)\n",
    "            +\n",
    "            ((i*2-1)*'*')\n",
    "            )\n",
    "        espacos -=1\n"
   ]
  },
  {
   "cell_type": "code",
   "execution_count": 98,
   "id": "bc1ebb55",
   "metadata": {},
   "outputs": [],
   "source": [
    "def trunk(tree_size):\n",
    "    trunk_size = int(tree_size*0.2)\n",
    "    copa_size = int(tree_size*0.8)\n",
    "    for i in range(1,trunk_size+1):\n",
    "        print(\n",
    "            (' '*copa_size)\n",
    "            +\n",
    "            ('|')\n",
    "            )"
   ]
  },
  {
   "cell_type": "code",
   "execution_count": 99,
   "id": "bb1549f2",
   "metadata": {},
   "outputs": [],
   "source": [
    "def tree(tree_size):\n",
    "    copa(tree_size)\n",
    "    trunk(tree_size)"
   ]
  },
  {
   "cell_type": "code",
   "execution_count": 100,
   "id": "598e6595",
   "metadata": {},
   "outputs": [
    {
     "name": "stdout",
     "output_type": "stream",
     "text": [
      "                *\n",
      "               ***\n",
      "              *****\n",
      "             *******\n",
      "            *********\n",
      "           ***********\n",
      "          *************\n",
      "         ***************\n",
      "        *****************\n",
      "       *******************\n",
      "      *********************\n",
      "     ***********************\n",
      "    *************************\n",
      "   ***************************\n",
      "  *****************************\n",
      " *******************************\n",
      "                |\n",
      "                |\n",
      "                |\n",
      "                |\n"
     ]
    }
   ],
   "source": [
    "tree(20)"
   ]
  },
  {
   "cell_type": "code",
   "execution_count": null,
   "id": "f050c938",
   "metadata": {},
   "outputs": [],
   "source": []
  },
  {
   "cell_type": "code",
   "execution_count": null,
   "id": "8e96cfbb",
   "metadata": {},
   "outputs": [],
   "source": []
  }
 ],
 "metadata": {
  "kernelspec": {
   "display_name": "Python 3 (ipykernel)",
   "language": "python",
   "name": "python3"
  },
  "language_info": {
   "codemirror_mode": {
    "name": "ipython",
    "version": 3
   },
   "file_extension": ".py",
   "mimetype": "text/x-python",
   "name": "python",
   "nbconvert_exporter": "python",
   "pygments_lexer": "ipython3",
   "version": "3.9.13"
  }
 },
 "nbformat": 4,
 "nbformat_minor": 5
}
